{
 "cells": [
  {
   "cell_type": "code",
   "execution_count": 10,
   "id": "b42287a8",
   "metadata": {},
   "outputs": [],
   "source": [
    "import pandas as pd              #importamos librerias\n",
    "import numpy as np\n",
    "from scipy.stats import trim_mean   # conda install scipy\n",
    "from statsmodels import robust      # conda install -c conda-forge statsmodels \n",
    "import wquantiles                   # pip install wquantiles\n",
    "\n",
    "import seaborn as sns\n",
    "import matplotlib.pylab as plt"
   ]
  },
  {
   "cell_type": "code",
   "execution_count": 5,
   "id": "e91c20ba",
   "metadata": {},
   "outputs": [],
   "source": [
    "paht= './data/diamonds_train.csv'   #leemos el archivos csv que esta en la carpeta data\n",
    "tabla_hechos = pd.read_csv(paht, sep= \",\")"
   ]
  },
  {
   "cell_type": "code",
   "execution_count": 6,
   "id": "bce279ab",
   "metadata": {},
   "outputs": [
    {
     "data": {
      "text/html": [
       "<div>\n",
       "<style scoped>\n",
       "    .dataframe tbody tr th:only-of-type {\n",
       "        vertical-align: middle;\n",
       "    }\n",
       "\n",
       "    .dataframe tbody tr th {\n",
       "        vertical-align: top;\n",
       "    }\n",
       "\n",
       "    .dataframe thead th {\n",
       "        text-align: right;\n",
       "    }\n",
       "</style>\n",
       "<table border=\"1\" class=\"dataframe\">\n",
       "  <thead>\n",
       "    <tr style=\"text-align: right;\">\n",
       "      <th></th>\n",
       "      <th>price</th>\n",
       "      <th>carat</th>\n",
       "      <th>city</th>\n",
       "      <th>depth</th>\n",
       "      <th>table</th>\n",
       "      <th>x</th>\n",
       "      <th>y</th>\n",
       "      <th>z</th>\n",
       "      <th>cut</th>\n",
       "      <th>color</th>\n",
       "      <th>clarity</th>\n",
       "    </tr>\n",
       "  </thead>\n",
       "  <tbody>\n",
       "    <tr>\n",
       "      <th>0</th>\n",
       "      <td>4268</td>\n",
       "      <td>1.21</td>\n",
       "      <td>Dubai</td>\n",
       "      <td>62.4</td>\n",
       "      <td>58.0</td>\n",
       "      <td>6.83</td>\n",
       "      <td>6.79</td>\n",
       "      <td>4.25</td>\n",
       "      <td>Premium</td>\n",
       "      <td>J</td>\n",
       "      <td>VS2</td>\n",
       "    </tr>\n",
       "    <tr>\n",
       "      <th>1</th>\n",
       "      <td>505</td>\n",
       "      <td>0.32</td>\n",
       "      <td>Kimberly</td>\n",
       "      <td>63.0</td>\n",
       "      <td>57.0</td>\n",
       "      <td>4.35</td>\n",
       "      <td>4.38</td>\n",
       "      <td>2.75</td>\n",
       "      <td>Very Good</td>\n",
       "      <td>H</td>\n",
       "      <td>VS2</td>\n",
       "    </tr>\n",
       "    <tr>\n",
       "      <th>2</th>\n",
       "      <td>2686</td>\n",
       "      <td>0.71</td>\n",
       "      <td>Las Vegas</td>\n",
       "      <td>65.5</td>\n",
       "      <td>55.0</td>\n",
       "      <td>5.62</td>\n",
       "      <td>5.53</td>\n",
       "      <td>3.65</td>\n",
       "      <td>Fair</td>\n",
       "      <td>G</td>\n",
       "      <td>VS1</td>\n",
       "    </tr>\n",
       "    <tr>\n",
       "      <th>3</th>\n",
       "      <td>738</td>\n",
       "      <td>0.41</td>\n",
       "      <td>Kimberly</td>\n",
       "      <td>63.8</td>\n",
       "      <td>56.0</td>\n",
       "      <td>4.68</td>\n",
       "      <td>4.72</td>\n",
       "      <td>3.00</td>\n",
       "      <td>Good</td>\n",
       "      <td>D</td>\n",
       "      <td>SI1</td>\n",
       "    </tr>\n",
       "    <tr>\n",
       "      <th>4</th>\n",
       "      <td>4882</td>\n",
       "      <td>1.02</td>\n",
       "      <td>Dubai</td>\n",
       "      <td>60.5</td>\n",
       "      <td>59.0</td>\n",
       "      <td>6.55</td>\n",
       "      <td>6.51</td>\n",
       "      <td>3.95</td>\n",
       "      <td>Ideal</td>\n",
       "      <td>G</td>\n",
       "      <td>SI1</td>\n",
       "    </tr>\n",
       "    <tr>\n",
       "      <th>...</th>\n",
       "      <td>...</td>\n",
       "      <td>...</td>\n",
       "      <td>...</td>\n",
       "      <td>...</td>\n",
       "      <td>...</td>\n",
       "      <td>...</td>\n",
       "      <td>...</td>\n",
       "      <td>...</td>\n",
       "      <td>...</td>\n",
       "      <td>...</td>\n",
       "      <td>...</td>\n",
       "    </tr>\n",
       "    <tr>\n",
       "      <th>40450</th>\n",
       "      <td>10070</td>\n",
       "      <td>1.34</td>\n",
       "      <td>Antwerp</td>\n",
       "      <td>62.7</td>\n",
       "      <td>57.0</td>\n",
       "      <td>7.10</td>\n",
       "      <td>7.04</td>\n",
       "      <td>4.43</td>\n",
       "      <td>Ideal</td>\n",
       "      <td>G</td>\n",
       "      <td>VS1</td>\n",
       "    </tr>\n",
       "    <tr>\n",
       "      <th>40451</th>\n",
       "      <td>12615</td>\n",
       "      <td>2.02</td>\n",
       "      <td>Madrid</td>\n",
       "      <td>57.1</td>\n",
       "      <td>60.0</td>\n",
       "      <td>8.31</td>\n",
       "      <td>8.25</td>\n",
       "      <td>4.73</td>\n",
       "      <td>Good</td>\n",
       "      <td>F</td>\n",
       "      <td>SI2</td>\n",
       "    </tr>\n",
       "    <tr>\n",
       "      <th>40452</th>\n",
       "      <td>5457</td>\n",
       "      <td>1.01</td>\n",
       "      <td>Kimberly</td>\n",
       "      <td>62.7</td>\n",
       "      <td>56.0</td>\n",
       "      <td>6.37</td>\n",
       "      <td>6.42</td>\n",
       "      <td>4.01</td>\n",
       "      <td>Ideal</td>\n",
       "      <td>H</td>\n",
       "      <td>SI1</td>\n",
       "    </tr>\n",
       "    <tr>\n",
       "      <th>40453</th>\n",
       "      <td>456</td>\n",
       "      <td>0.33</td>\n",
       "      <td>Kimberly</td>\n",
       "      <td>61.9</td>\n",
       "      <td>54.3</td>\n",
       "      <td>4.45</td>\n",
       "      <td>4.47</td>\n",
       "      <td>2.76</td>\n",
       "      <td>Ideal</td>\n",
       "      <td>J</td>\n",
       "      <td>VS1</td>\n",
       "    </tr>\n",
       "    <tr>\n",
       "      <th>40454</th>\n",
       "      <td>6232</td>\n",
       "      <td>1.24</td>\n",
       "      <td>London</td>\n",
       "      <td>62.0</td>\n",
       "      <td>58.0</td>\n",
       "      <td>6.83</td>\n",
       "      <td>6.88</td>\n",
       "      <td>4.25</td>\n",
       "      <td>Ideal</td>\n",
       "      <td>I</td>\n",
       "      <td>SI1</td>\n",
       "    </tr>\n",
       "  </tbody>\n",
       "</table>\n",
       "<p>40455 rows × 11 columns</p>\n",
       "</div>"
      ],
      "text/plain": [
       "       price  carat       city  depth  table     x     y     z        cut  \\\n",
       "0       4268   1.21      Dubai   62.4   58.0  6.83  6.79  4.25    Premium   \n",
       "1        505   0.32   Kimberly   63.0   57.0  4.35  4.38  2.75  Very Good   \n",
       "2       2686   0.71  Las Vegas   65.5   55.0  5.62  5.53  3.65       Fair   \n",
       "3        738   0.41   Kimberly   63.8   56.0  4.68  4.72  3.00       Good   \n",
       "4       4882   1.02      Dubai   60.5   59.0  6.55  6.51  3.95      Ideal   \n",
       "...      ...    ...        ...    ...    ...   ...   ...   ...        ...   \n",
       "40450  10070   1.34    Antwerp   62.7   57.0  7.10  7.04  4.43      Ideal   \n",
       "40451  12615   2.02     Madrid   57.1   60.0  8.31  8.25  4.73       Good   \n",
       "40452   5457   1.01   Kimberly   62.7   56.0  6.37  6.42  4.01      Ideal   \n",
       "40453    456   0.33   Kimberly   61.9   54.3  4.45  4.47  2.76      Ideal   \n",
       "40454   6232   1.24     London   62.0   58.0  6.83  6.88  4.25      Ideal   \n",
       "\n",
       "      color clarity  \n",
       "0         J     VS2  \n",
       "1         H     VS2  \n",
       "2         G     VS1  \n",
       "3         D     SI1  \n",
       "4         G     SI1  \n",
       "...     ...     ...  \n",
       "40450     G     VS1  \n",
       "40451     F     SI2  \n",
       "40452     H     SI1  \n",
       "40453     J     VS1  \n",
       "40454     I     SI1  \n",
       "\n",
       "[40455 rows x 11 columns]"
      ]
     },
     "execution_count": 6,
     "metadata": {},
     "output_type": "execute_result"
    }
   ],
   "source": [
    "tabla_hechos # vemos la tabla"
   ]
  },
  {
   "cell_type": "code",
   "execution_count": 8,
   "id": "84399661",
   "metadata": {},
   "outputs": [
    {
     "name": "stdout",
     "output_type": "stream",
     "text": [
      "<class 'pandas.core.frame.DataFrame'>\n",
      "RangeIndex: 40455 entries, 0 to 40454\n",
      "Data columns (total 11 columns):\n",
      " #   Column   Non-Null Count  Dtype  \n",
      "---  ------   --------------  -----  \n",
      " 0   price    40455 non-null  int64  \n",
      " 1   carat    40455 non-null  float64\n",
      " 2   city     40455 non-null  object \n",
      " 3   depth    40455 non-null  float64\n",
      " 4   table    40455 non-null  float64\n",
      " 5   x        40455 non-null  float64\n",
      " 6   y        40455 non-null  float64\n",
      " 7   z        40455 non-null  float64\n",
      " 8   cut      40455 non-null  object \n",
      " 9   color    40455 non-null  object \n",
      " 10  clarity  40455 non-null  object \n",
      "dtypes: float64(6), int64(1), object(4)\n",
      "memory usage: 3.4+ MB\n"
     ]
    }
   ],
   "source": [
    "tabla_hechos.info()"
   ]
  },
  {
   "cell_type": "code",
   "execution_count": 13,
   "id": "1f2ab0d4",
   "metadata": {},
   "outputs": [],
   "source": [
    "variables_numericas_continuas = tabla_hechos[[\"carat\",\"price\",\"depth\",\"table\",\"x\",\"y\",\"z\"]] #elegimos las variables numericas continuas\n"
   ]
  },
  {
   "cell_type": "code",
   "execution_count": 16,
   "id": "98cb59dc",
   "metadata": {},
   "outputs": [],
   "source": [
    "varables_categoricas = tabla_hechos[[\"city\",\"cut\",\"color\",\"clarity\"]]"
   ]
  },
  {
   "cell_type": "code",
   "execution_count": 17,
   "id": "655ed68b",
   "metadata": {},
   "outputs": [
    {
     "data": {
      "text/html": [
       "<div>\n",
       "<style scoped>\n",
       "    .dataframe tbody tr th:only-of-type {\n",
       "        vertical-align: middle;\n",
       "    }\n",
       "\n",
       "    .dataframe tbody tr th {\n",
       "        vertical-align: top;\n",
       "    }\n",
       "\n",
       "    .dataframe thead th {\n",
       "        text-align: right;\n",
       "    }\n",
       "</style>\n",
       "<table border=\"1\" class=\"dataframe\">\n",
       "  <thead>\n",
       "    <tr style=\"text-align: right;\">\n",
       "      <th></th>\n",
       "      <th>city</th>\n",
       "      <th>cut</th>\n",
       "      <th>color</th>\n",
       "      <th>clarity</th>\n",
       "    </tr>\n",
       "  </thead>\n",
       "  <tbody>\n",
       "    <tr>\n",
       "      <th>0</th>\n",
       "      <td>Dubai</td>\n",
       "      <td>Premium</td>\n",
       "      <td>J</td>\n",
       "      <td>VS2</td>\n",
       "    </tr>\n",
       "    <tr>\n",
       "      <th>1</th>\n",
       "      <td>Kimberly</td>\n",
       "      <td>Very Good</td>\n",
       "      <td>H</td>\n",
       "      <td>VS2</td>\n",
       "    </tr>\n",
       "    <tr>\n",
       "      <th>2</th>\n",
       "      <td>Las Vegas</td>\n",
       "      <td>Fair</td>\n",
       "      <td>G</td>\n",
       "      <td>VS1</td>\n",
       "    </tr>\n",
       "    <tr>\n",
       "      <th>3</th>\n",
       "      <td>Kimberly</td>\n",
       "      <td>Good</td>\n",
       "      <td>D</td>\n",
       "      <td>SI1</td>\n",
       "    </tr>\n",
       "    <tr>\n",
       "      <th>4</th>\n",
       "      <td>Dubai</td>\n",
       "      <td>Ideal</td>\n",
       "      <td>G</td>\n",
       "      <td>SI1</td>\n",
       "    </tr>\n",
       "    <tr>\n",
       "      <th>...</th>\n",
       "      <td>...</td>\n",
       "      <td>...</td>\n",
       "      <td>...</td>\n",
       "      <td>...</td>\n",
       "    </tr>\n",
       "    <tr>\n",
       "      <th>40450</th>\n",
       "      <td>Antwerp</td>\n",
       "      <td>Ideal</td>\n",
       "      <td>G</td>\n",
       "      <td>VS1</td>\n",
       "    </tr>\n",
       "    <tr>\n",
       "      <th>40451</th>\n",
       "      <td>Madrid</td>\n",
       "      <td>Good</td>\n",
       "      <td>F</td>\n",
       "      <td>SI2</td>\n",
       "    </tr>\n",
       "    <tr>\n",
       "      <th>40452</th>\n",
       "      <td>Kimberly</td>\n",
       "      <td>Ideal</td>\n",
       "      <td>H</td>\n",
       "      <td>SI1</td>\n",
       "    </tr>\n",
       "    <tr>\n",
       "      <th>40453</th>\n",
       "      <td>Kimberly</td>\n",
       "      <td>Ideal</td>\n",
       "      <td>J</td>\n",
       "      <td>VS1</td>\n",
       "    </tr>\n",
       "    <tr>\n",
       "      <th>40454</th>\n",
       "      <td>London</td>\n",
       "      <td>Ideal</td>\n",
       "      <td>I</td>\n",
       "      <td>SI1</td>\n",
       "    </tr>\n",
       "  </tbody>\n",
       "</table>\n",
       "<p>40455 rows × 4 columns</p>\n",
       "</div>"
      ],
      "text/plain": [
       "            city        cut color clarity\n",
       "0          Dubai    Premium     J     VS2\n",
       "1       Kimberly  Very Good     H     VS2\n",
       "2      Las Vegas       Fair     G     VS1\n",
       "3       Kimberly       Good     D     SI1\n",
       "4          Dubai      Ideal     G     SI1\n",
       "...          ...        ...   ...     ...\n",
       "40450    Antwerp      Ideal     G     VS1\n",
       "40451     Madrid       Good     F     SI2\n",
       "40452   Kimberly      Ideal     H     SI1\n",
       "40453   Kimberly      Ideal     J     VS1\n",
       "40454     London      Ideal     I     SI1\n",
       "\n",
       "[40455 rows x 4 columns]"
      ]
     },
     "execution_count": 17,
     "metadata": {},
     "output_type": "execute_result"
    }
   ],
   "source": [
    "varables_categoricas"
   ]
  },
  {
   "cell_type": "code",
   "execution_count": 14,
   "id": "b5a76214",
   "metadata": {},
   "outputs": [
    {
     "data": {
      "text/html": [
       "<div>\n",
       "<style scoped>\n",
       "    .dataframe tbody tr th:only-of-type {\n",
       "        vertical-align: middle;\n",
       "    }\n",
       "\n",
       "    .dataframe tbody tr th {\n",
       "        vertical-align: top;\n",
       "    }\n",
       "\n",
       "    .dataframe thead th {\n",
       "        text-align: right;\n",
       "    }\n",
       "</style>\n",
       "<table border=\"1\" class=\"dataframe\">\n",
       "  <thead>\n",
       "    <tr style=\"text-align: right;\">\n",
       "      <th></th>\n",
       "      <th>carat</th>\n",
       "      <th>price</th>\n",
       "      <th>depth</th>\n",
       "      <th>table</th>\n",
       "      <th>x</th>\n",
       "      <th>y</th>\n",
       "      <th>z</th>\n",
       "    </tr>\n",
       "  </thead>\n",
       "  <tbody>\n",
       "    <tr>\n",
       "      <th>0</th>\n",
       "      <td>1.21</td>\n",
       "      <td>4268</td>\n",
       "      <td>62.4</td>\n",
       "      <td>58.0</td>\n",
       "      <td>6.83</td>\n",
       "      <td>6.79</td>\n",
       "      <td>4.25</td>\n",
       "    </tr>\n",
       "    <tr>\n",
       "      <th>1</th>\n",
       "      <td>0.32</td>\n",
       "      <td>505</td>\n",
       "      <td>63.0</td>\n",
       "      <td>57.0</td>\n",
       "      <td>4.35</td>\n",
       "      <td>4.38</td>\n",
       "      <td>2.75</td>\n",
       "    </tr>\n",
       "    <tr>\n",
       "      <th>2</th>\n",
       "      <td>0.71</td>\n",
       "      <td>2686</td>\n",
       "      <td>65.5</td>\n",
       "      <td>55.0</td>\n",
       "      <td>5.62</td>\n",
       "      <td>5.53</td>\n",
       "      <td>3.65</td>\n",
       "    </tr>\n",
       "    <tr>\n",
       "      <th>3</th>\n",
       "      <td>0.41</td>\n",
       "      <td>738</td>\n",
       "      <td>63.8</td>\n",
       "      <td>56.0</td>\n",
       "      <td>4.68</td>\n",
       "      <td>4.72</td>\n",
       "      <td>3.00</td>\n",
       "    </tr>\n",
       "    <tr>\n",
       "      <th>4</th>\n",
       "      <td>1.02</td>\n",
       "      <td>4882</td>\n",
       "      <td>60.5</td>\n",
       "      <td>59.0</td>\n",
       "      <td>6.55</td>\n",
       "      <td>6.51</td>\n",
       "      <td>3.95</td>\n",
       "    </tr>\n",
       "    <tr>\n",
       "      <th>...</th>\n",
       "      <td>...</td>\n",
       "      <td>...</td>\n",
       "      <td>...</td>\n",
       "      <td>...</td>\n",
       "      <td>...</td>\n",
       "      <td>...</td>\n",
       "      <td>...</td>\n",
       "    </tr>\n",
       "    <tr>\n",
       "      <th>40450</th>\n",
       "      <td>1.34</td>\n",
       "      <td>10070</td>\n",
       "      <td>62.7</td>\n",
       "      <td>57.0</td>\n",
       "      <td>7.10</td>\n",
       "      <td>7.04</td>\n",
       "      <td>4.43</td>\n",
       "    </tr>\n",
       "    <tr>\n",
       "      <th>40451</th>\n",
       "      <td>2.02</td>\n",
       "      <td>12615</td>\n",
       "      <td>57.1</td>\n",
       "      <td>60.0</td>\n",
       "      <td>8.31</td>\n",
       "      <td>8.25</td>\n",
       "      <td>4.73</td>\n",
       "    </tr>\n",
       "    <tr>\n",
       "      <th>40452</th>\n",
       "      <td>1.01</td>\n",
       "      <td>5457</td>\n",
       "      <td>62.7</td>\n",
       "      <td>56.0</td>\n",
       "      <td>6.37</td>\n",
       "      <td>6.42</td>\n",
       "      <td>4.01</td>\n",
       "    </tr>\n",
       "    <tr>\n",
       "      <th>40453</th>\n",
       "      <td>0.33</td>\n",
       "      <td>456</td>\n",
       "      <td>61.9</td>\n",
       "      <td>54.3</td>\n",
       "      <td>4.45</td>\n",
       "      <td>4.47</td>\n",
       "      <td>2.76</td>\n",
       "    </tr>\n",
       "    <tr>\n",
       "      <th>40454</th>\n",
       "      <td>1.24</td>\n",
       "      <td>6232</td>\n",
       "      <td>62.0</td>\n",
       "      <td>58.0</td>\n",
       "      <td>6.83</td>\n",
       "      <td>6.88</td>\n",
       "      <td>4.25</td>\n",
       "    </tr>\n",
       "  </tbody>\n",
       "</table>\n",
       "<p>40455 rows × 7 columns</p>\n",
       "</div>"
      ],
      "text/plain": [
       "       carat  price  depth  table     x     y     z\n",
       "0       1.21   4268   62.4   58.0  6.83  6.79  4.25\n",
       "1       0.32    505   63.0   57.0  4.35  4.38  2.75\n",
       "2       0.71   2686   65.5   55.0  5.62  5.53  3.65\n",
       "3       0.41    738   63.8   56.0  4.68  4.72  3.00\n",
       "4       1.02   4882   60.5   59.0  6.55  6.51  3.95\n",
       "...      ...    ...    ...    ...   ...   ...   ...\n",
       "40450   1.34  10070   62.7   57.0  7.10  7.04  4.43\n",
       "40451   2.02  12615   57.1   60.0  8.31  8.25  4.73\n",
       "40452   1.01   5457   62.7   56.0  6.37  6.42  4.01\n",
       "40453   0.33    456   61.9   54.3  4.45  4.47  2.76\n",
       "40454   1.24   6232   62.0   58.0  6.83  6.88  4.25\n",
       "\n",
       "[40455 rows x 7 columns]"
      ]
     },
     "execution_count": 14,
     "metadata": {},
     "output_type": "execute_result"
    }
   ],
   "source": [
    "variables_numericas_continuas"
   ]
  },
  {
   "cell_type": "code",
   "execution_count": 15,
   "id": "07f79d63",
   "metadata": {},
   "outputs": [
    {
     "name": "stdout",
     "output_type": "stream",
     "text": [
      "price        int64\n",
      "carat      float64\n",
      "city        object\n",
      "depth      float64\n",
      "table      float64\n",
      "x          float64\n",
      "y          float64\n",
      "z          float64\n",
      "cut         object\n",
      "color       object\n",
      "clarity     object\n",
      "dtype: object\n"
     ]
    }
   ],
   "source": [
    "print(tabla_hechos.dtypes)"
   ]
  },
  {
   "cell_type": "code",
   "execution_count": 9,
   "id": "d0861413",
   "metadata": {
    "scrolled": true
   },
   "outputs": [
    {
     "data": {
      "text/plain": [
       "<bound method NDFrame.describe of        price  carat       city  depth  table     x     y     z        cut  \\\n",
       "0       4268   1.21      Dubai   62.4   58.0  6.83  6.79  4.25    Premium   \n",
       "1        505   0.32   Kimberly   63.0   57.0  4.35  4.38  2.75  Very Good   \n",
       "2       2686   0.71  Las Vegas   65.5   55.0  5.62  5.53  3.65       Fair   \n",
       "3        738   0.41   Kimberly   63.8   56.0  4.68  4.72  3.00       Good   \n",
       "4       4882   1.02      Dubai   60.5   59.0  6.55  6.51  3.95      Ideal   \n",
       "...      ...    ...        ...    ...    ...   ...   ...   ...        ...   \n",
       "40450  10070   1.34    Antwerp   62.7   57.0  7.10  7.04  4.43      Ideal   \n",
       "40451  12615   2.02     Madrid   57.1   60.0  8.31  8.25  4.73       Good   \n",
       "40452   5457   1.01   Kimberly   62.7   56.0  6.37  6.42  4.01      Ideal   \n",
       "40453    456   0.33   Kimberly   61.9   54.3  4.45  4.47  2.76      Ideal   \n",
       "40454   6232   1.24     London   62.0   58.0  6.83  6.88  4.25      Ideal   \n",
       "\n",
       "      color clarity  \n",
       "0         J     VS2  \n",
       "1         H     VS2  \n",
       "2         G     VS1  \n",
       "3         D     SI1  \n",
       "4         G     SI1  \n",
       "...     ...     ...  \n",
       "40450     G     VS1  \n",
       "40451     F     SI2  \n",
       "40452     H     SI1  \n",
       "40453     J     VS1  \n",
       "40454     I     SI1  \n",
       "\n",
       "[40455 rows x 11 columns]>"
      ]
     },
     "execution_count": 9,
     "metadata": {},
     "output_type": "execute_result"
    }
   ],
   "source": [
    "tabla_hechos.describe"
   ]
  },
  {
   "cell_type": "code",
   "execution_count": 20,
   "id": "5d0c292e",
   "metadata": {},
   "outputs": [],
   "source": [
    "# Calcular la media de las variables numéricas\n",
    "mean_price = tabla_hechos['price'].mean()\n",
    "mean_carat = tabla_hechos['carat'].mean()\n",
    "mean_depth = tabla_hechos['depth'].mean()\n",
    "mean_table = tabla_hechos['table'].mean()\n",
    "mean_x = tabla_hechos['x'].mean()\n",
    "mean_y = tabla_hechos['y'].mean()\n",
    "mean_z =tabla_hechos['z'].mean()\n",
    "\n"
   ]
  },
  {
   "cell_type": "code",
   "execution_count": 44,
   "id": "79be049d",
   "metadata": {},
   "outputs": [
    {
     "name": "stdout",
     "output_type": "stream",
     "text": [
      "3928.444469163268 mean price\n",
      "0.7977055988134963 mean carat\n",
      "61.752841428748 mean depth\n",
      "57.446132740081566 mean table\n",
      "5.729391669756519 mean x\n",
      "5.732818687430478 mean y\n",
      "3.5371536274873314 mean z\n"
     ]
    }
   ],
   "source": [
    "print(mean_price,\"mean price\")\n",
    "print(mean_carat,\"mean carat\")\n",
    "print(mean_depth,\"mean depth\")\n",
    "print(mean_table,\"mean table\")\n",
    "print(mean_x,\"mean x\")\n",
    "print(mean_y,\"mean y\")\n",
    "print(mean_z,\"mean z\")"
   ]
  },
  {
   "cell_type": "code",
   "execution_count": 37,
   "id": "e91d7ddb",
   "metadata": {},
   "outputs": [],
   "source": [
    "import numpy as np\n",
    "#  la media ponderada de las variables numéricas\n",
    "# usamos la funcion np.average que es un metodo de numpy \n",
    "\n",
    "\n",
    "# Calcular la media ponderada de las variables numéricas\n",
    "wmean_price = np.average(tabla_hechos['price'], weights=tabla_hechos['carat'])\n",
    "wmean_carat = np.average(tabla_hechos[\"carat\"],weights=tabla_hechos['carat'])\n",
    "wmean_depth = np.average(tabla_hechos['depth'], weights=tabla_hechos['carat'])\n",
    "wmean_table = np.average(tabla_hechos['table'], weights=tabla_hechos['carat'])\n",
    "wmean_x = np.average(tabla_hechos['x'], weights=tabla_hechos['carat'])\n",
    "wmean_y = np.average(tabla_hechos['y'], weights=tabla_hechos['carat'])\n",
    "wmean_z = np.average(tabla_hechos['z'], weights=tabla_hechos['carat'])\n",
    "\n"
   ]
  },
  {
   "cell_type": "code",
   "execution_count": 43,
   "id": "b4b70b9b",
   "metadata": {},
   "outputs": [
    {
     "name": "stdout",
     "output_type": "stream",
     "text": [
      "6122.6318640966965 media ponderada price\n",
      "1.0811895195651353 media ponderada carat\n",
      "61.77548273722871 media ponderada depth\n",
      "57.69031324544068 media ponderada table\n",
      "6.383409571636364 media ponderada x\n",
      "6.383327941525536 media ponderada y\n",
      "3.939213852731757 media ponderada z\n"
     ]
    }
   ],
   "source": [
    "print(wmean_price,\"media ponderada price\")\n",
    "print(wmean_carat,\"media ponderada carat\")\n",
    "print(wmean_depth,\"media ponderada depth\")\n",
    "print(wmean_table,\"media ponderada table\")\n",
    "print(wmean_x,\"media ponderada x\")\n",
    "print(wmean_y,\"media ponderada y\")\n",
    "print(wmean_z,\"media ponderada z\")"
   ]
  },
  {
   "cell_type": "code",
   "execution_count": 39,
   "id": "a3f2e60a",
   "metadata": {},
   "outputs": [],
   "source": [
    "#La media recortada (trimmed mean) es una medida estadística que se utiliza para reducir el impacto de \n",
    "#los valores atípicos (outliers) en el cálculo de la media. Se logra eliminando un \n",
    "#porcentaje fijo de los valores más altos y más bajos del conjunto de datos antes \n",
    "#de calcular la media. Esto puede proporcionar una representación más robusta y precisa del centro de \n",
    "#los datos, especialmente cuando hay valores extremos que podrían sesgar la media.\n",
    "# Calcular la media recortada de las variables numéricas\n",
    "tmean_price = trim_mean(tabla_hechos['price'], 0.1)\n",
    "tmean_carat = trim_mean(tabla_hechos['carat'], 0.1)\n",
    "tmean_depth = trim_mean(tabla_hechos['depth'], 0.1)\n",
    "tmean_table = trim_mean(tabla_hechos['table'], 0.1)\n",
    "tmean_x = trim_mean(tabla_hechos['x'], 0.1)\n",
    "tmean_y = trim_mean(tabla_hechos['y'], 0.1)\n",
    "tmean_z = trim_mean(tabla_hechos['z'], 0.1)\n",
    "\n"
   ]
  },
  {
   "cell_type": "code",
   "execution_count": 40,
   "id": "6263d959",
   "metadata": {},
   "outputs": [
    {
     "name": "stdout",
     "output_type": "stream",
     "text": [
      "Trimmed Mean Price: 3153.22252433184\n",
      "Trimmed Mean Carat: 0.7341171018075081\n",
      "Trimmed Mean Depth: 61.78612698903136\n",
      "Trimmed Mean Table: 57.30735053298316\n",
      "Trimmed Mean X: 5.656819712652558\n",
      "Trimmed Mean Y: 5.659741078325351\n",
      "Trimmed Mean Z: 3.4931126216591997\n"
     ]
    }
   ],
   "source": [
    "# Imprimir las medias recortadas\n",
    "print('Trimmed Mean Price:', tmean_price)\n",
    "print('Trimmed Mean Carat:', tmean_carat)\n",
    "print('Trimmed Mean Depth:', tmean_depth)\n",
    "print('Trimmed Mean Table:', tmean_table)\n",
    "print('Trimmed Mean X:', tmean_x)\n",
    "print('Trimmed Mean Y:', tmean_y)\n",
    "print('Trimmed Mean Z:', tmean_z)\n"
   ]
  },
  {
   "cell_type": "code",
   "execution_count": 46,
   "id": "14885bd3",
   "metadata": {},
   "outputs": [],
   "source": [
    "#La mediana es otra medida de tendencia central que se utiliza para describir \n",
    "#el valor típico de un conjunto de datos. A diferencia de la media,\n",
    "#la mediana no se ve afectada por valores atípicos (outliers) y puede proporcionar \n",
    "#una representación más precisa del centro de los datos en ciertos casos.\n",
    "\n",
    "\n",
    "# Calcular la mediana de las variables numéricas\n",
    "median_price = tabla_hechos['price'].median()\n",
    "median_carat = tabla_hechos['carat'].median()\n",
    "median_depth = tabla_hechos['depth'].median()\n",
    "median_table = tabla_hechos['table'].median()\n",
    "median_x = tabla_hechos['x'].median()\n",
    "median_y = tabla_hechos['y'].median()\n",
    "median_z = tabla_hechos['z'].median()\n",
    "\n"
   ]
  },
  {
   "cell_type": "code",
   "execution_count": 47,
   "id": "6ffef1d8",
   "metadata": {},
   "outputs": [
    {
     "name": "stdout",
     "output_type": "stream",
     "text": [
      "Median Price: 2397.0\n",
      "Median Carat: 0.7\n",
      "Median Depth: 61.8\n",
      "Median Table: 57.0\n",
      "Median X: 5.69\n",
      "Median Y: 5.71\n",
      "Median Z: 3.52\n"
     ]
    }
   ],
   "source": [
    "# Imprimir las medianas\n",
    "print('Median Price:', median_price)\n",
    "print('Median Carat:', median_carat)\n",
    "print('Median Depth:', median_depth)\n",
    "print('Median Table:', median_table)\n",
    "print('Median X:', median_x)\n",
    "print('Median Y:', median_y)\n",
    "print('Median Z:', median_z)"
   ]
  },
  {
   "cell_type": "code",
   "execution_count": 49,
   "id": "342f8808",
   "metadata": {},
   "outputs": [
    {
     "name": "stdout",
     "output_type": "stream",
     "text": [
      "Median Price: 2397.0 \n",
      "Weighted Median Price: 4788.0\n",
      "Median Carat: 0.7 \n",
      "Weighted Median Carat: 1.15\n",
      "Median Depth: 61.8 \n",
      "Weighted Median Depth: 61.9\n",
      "Median Table: 57.0 \n",
      "Weighted Median Table: 57.7\n",
      "Median X: 5.69 \n",
      "Weighted Median X: 6.46\n",
      "Median Y: 5.71 \n",
      "Weighted Median Y: 6.46\n",
      "Median Z: 3.52 \n",
      "Weighted Median Z: 4.0\n"
     ]
    }
   ],
   "source": [
    "#La mediana ponderada es una medida de tendencia central que, al igual que la mediana,\n",
    "#busca encontrar el valor central de un conjunto de datos.\n",
    "#Sin embargo, a diferencia de la mediana simple, \n",
    "#la mediana ponderada tiene en cuenta la importancia (o peso) de cada valor en el \n",
    "#conjunto de datos. Esto es útil cuando algunos valores son más significativos que otros\n",
    "\n",
    "# Calcular la mediana y la mediana ponderada de las variables numéricas\n",
    "\n",
    "wmedian_price = wquantiles.median(tabla_hechos['price'], weights=tabla_hechos['carat'])\n",
    "\n",
    "wmedian_carat = wquantiles.median(tabla_hechos['carat'], weights=tabla_hechos['price'])\n",
    "\n",
    "\n",
    "wmedian_depth = wquantiles.median(tabla_hechos['depth'], weights=tabla_hechos['carat'])\n",
    "\n",
    "\n",
    "wmedian_table = wquantiles.median(tabla_hechos['table'], weights=tabla_hechos['carat'])\n",
    "\n",
    "\n",
    "wmedian_x = wquantiles.median(tabla_hechos['x'], weights=tabla_hechos['carat'])\n",
    "\n",
    "\n",
    "wmedian_y = wquantiles.median(tabla_hechos['y'], weights=tabla_hechos['carat'])\n",
    "\n",
    "\n",
    "wmedian_z = wquantiles.median(tabla_hechos['z'], weights=tabla_hechos['carat'])\n",
    "\n",
    "# Imprimir las medianas y las medianas ponderadas\n",
    "print('Median Price:', median_price, '\\nWeighted Median Price:', wmedian_price)\n",
    "print('Median Carat:', median_carat, '\\nWeighted Median Carat:', wmedian_carat)\n",
    "print('Median Depth:', median_depth, '\\nWeighted Median Depth:', wmedian_depth)\n",
    "print('Median Table:', median_table, '\\nWeighted Median Table:', wmedian_table)\n",
    "print('Median X:', median_x, '\\nWeighted Median X:', wmedian_x)\n",
    "print('Median Y:', median_y, '\\nWeighted Median Y:', wmedian_y)\n",
    "print('Median Z:', median_z, '\\nWeighted Median Z:', wmedian_z)\n"
   ]
  },
  {
   "cell_type": "code",
   "execution_count": 50,
   "id": "89817558",
   "metadata": {},
   "outputs": [],
   "source": [
    "#Cargamos el conjunto de datos tabla_hechos.\n",
    "#Calculamos la desviación de cada variable numérica respecto a su media.\n",
    "#Creamos nuevas columnas en el DataFrame para almacenar estas desviaciones.\n",
    "#Imprimimos las sumas de las desviaciones para cada variable.\n",
    "# Calcular la desviación de cada variable numérica respecto a su media\n",
    "tabla_hechos['dev_price'] = tabla_hechos['price'].mean() - tabla_hechos['price']\n",
    "tabla_hechos['dev_carat'] = tabla_hechos['carat'].mean() - tabla_hechos['carat']\n",
    "tabla_hechos['dev_depth'] = tabla_hechos['depth'].mean() - tabla_hechos['depth']\n",
    "tabla_hechos['dev_table'] = tabla_hechos['table'].mean() - tabla_hechos['table']\n",
    "tabla_hechos['dev_x'] = tabla_hechos['x'].mean() - tabla_hechos['x']\n",
    "tabla_hechos['dev_y'] = tabla_hechos['y'].mean() - tabla_hechos['y']\n",
    "tabla_hechos['dev_z'] = tabla_hechos['z'].mean() - tabla_hechos['z']\n",
    "\n"
   ]
  },
  {
   "cell_type": "code",
   "execution_count": 51,
   "id": "3785497c",
   "metadata": {},
   "outputs": [
    {
     "name": "stdout",
     "output_type": "stream",
     "text": [
      "Price deviation: -7.043126970529556e-09\n",
      "Carat deviation: -5.6203930398623925e-12\n",
      "Depth deviation: 2.999627213284839e-10\n",
      "Table deviation: -2.384012987022288e-10\n",
      "X deviation: -1.34718902700115e-11\n",
      "Y deviation: -1.8758328224066645e-11\n",
      "Z deviation: -7.503331289626658e-12\n"
     ]
    }
   ],
   "source": [
    "# Imprimir las sumas de las desviaciones\n",
    "print('Price deviation:', tabla_hechos['dev_price'].sum())\n",
    "print('Carat deviation:', tabla_hechos['dev_carat'].sum())\n",
    "print('Depth deviation:', tabla_hechos['dev_depth'].sum())\n",
    "print('Table deviation:', tabla_hechos['dev_table'].sum())\n",
    "print('X deviation:', tabla_hechos['dev_x'].sum())\n",
    "print('Y deviation:', tabla_hechos['dev_y'].sum())\n",
    "print('Z deviation:', tabla_hechos['dev_z'].sum())\n"
   ]
  },
  {
   "cell_type": "code",
   "execution_count": 52,
   "id": "399d275d",
   "metadata": {},
   "outputs": [
    {
     "name": "stdout",
     "output_type": "stream",
     "text": [
      "Price mean absolute deviation: 3034.0658933710733\n",
      "Carat mean absolute deviation: 0.385912540110232\n",
      "Depth mean absolute deviation: 1.0272593622772692\n",
      "Table mean absolute deviation: 1.7673116453841442\n",
      "X mean absolute deviation: 0.9565134918322864\n",
      "Y mean absolute deviation: 0.9513196540629537\n",
      "Z mean absolute deviation: 0.5930883488050529\n"
     ]
    }
   ],
   "source": [
    "#Cargamos el conjunto de datos tabla_hechos.\n",
    "#Calculamos la desviación absoluta de cada variable numérica respecto a su media.\n",
    "#Creamos nuevas columnas en el DataFrame para almacenar estas desviaciones absolutas.\n",
    "#Calculamos la desviación absoluta media dividiendo la suma de las desviaciones absolutas por el número total de valores.\n",
    "\n",
    "Imprimimos las desviaciones absolutas medias de cada variable.\n",
    "# Calcular la desviación absoluta media de cada variable numérica\n",
    "tabla_hechos['mean_dev_price'] = abs(tabla_hechos['price'].mean() - tabla_hechos['price'])\n",
    "tabla_hechos['mean_dev_carat'] = abs(tabla_hechos['carat'].mean() - tabla_hechos['carat'])\n",
    "tabla_hechos['mean_dev_depth'] = abs(tabla_hechos['depth'].mean() - tabla_hechos['depth'])\n",
    "tabla_hechos['mean_dev_table'] = abs(tabla_hechos['table'].mean() - tabla_hechos['table'])\n",
    "tabla_hechos['mean_dev_x'] = abs(tabla_hechos['x'].mean() - tabla_hechos['x'])\n",
    "tabla_hechos['mean_dev_y'] = abs(tabla_hechos['y'].mean() - tabla_hechos['y'])\n",
    "tabla_hechos['mean_dev_z'] = abs(tabla_hechos['z'].mean() - tabla_hechos['z'])\n",
    "\n",
    "# Calcular la desviación absoluta media\n",
    "mean_dev_price = tabla_hechos['mean_dev_price'].sum() / len(tabla_hechos['mean_dev_price'])\n",
    "mean_dev_carat = tabla_hechos['mean_dev_carat'].sum() / len(tabla_hechos['mean_dev_carat'])\n",
    "mean_dev_depth = tabla_hechos['mean_dev_depth'].sum() / len(tabla_hechos['mean_dev_depth'])\n",
    "mean_dev_table = tabla_hechos['mean_dev_table'].sum() / len(tabla_hechos['mean_dev_table'])\n",
    "mean_dev_x = tabla_hechos['mean_dev_x'].sum() / len(tabla_hechos['mean_dev_x'])\n",
    "mean_dev_y = tabla_hechos['mean_dev_y'].sum() / len(tabla_hechos['mean_dev_y'])\n",
    "mean_dev_z = tabla_hechos['mean_dev_z'].sum() / len(tabla_hechos['mean_dev_z'])\n",
    "\n",
    "# Imprimir las desviaciones absolutas medias\n",
    "print('Price mean absolute deviation:', mean_dev_price)\n",
    "print('Carat mean absolute deviation:', mean_dev_carat)\n",
    "print('Depth mean absolute deviation:', mean_dev_depth)\n",
    "print('Table mean absolute deviation:', mean_dev_table)\n",
    "print('X mean absolute deviation:', mean_dev_x)\n",
    "print('Y mean absolute deviation:', mean_dev_y)\n",
    "print('Z mean absolute deviation:', mean_dev_z)\n"
   ]
  },
  {
   "cell_type": "code",
   "execution_count": 53,
   "id": "4971d4bf",
   "metadata": {},
   "outputs": [
    {
     "name": "stdout",
     "output_type": "stream",
     "text": [
      "Variance Price: 15939386.687768824\n",
      "Variance Carat: 0.22614230072877511\n",
      "Variance Depth: 2.0498376150137294\n",
      "Variance Table: 4.9886797959950995\n",
      "Variance X: 1.2643938579372305\n",
      "Variance Y: 1.3148059842060686\n",
      "Variance Z: 0.4858948618234331\n"
     ]
    }
   ],
   "source": [
    "#Cargamos el conjunto de datos tabla_hechos.\n",
    "#Calculamos la varianza de cada variable numérica restando la media de cada valor, elevando al cuadrado y sumando los resultados.\n",
    "#Creamos nuevas columnas en el DataFrame para almacenar estas varianzas.\n",
    "#Calculamos la varianza dividiendo la suma de las desviaciones cuadradas por el número total de valores menos uno.\n",
    "#Imprimimos las varianzas de cada variable.\n",
    "\n",
    "\n",
    "# Calcular la varianza de cada variable numérica\n",
    "tabla_hechos['var_price'] = (tabla_hechos['price'].mean() - tabla_hechos['price'])**2\n",
    "tabla_hechos['var_carat'] = (tabla_hechos['carat'].mean() - tabla_hechos['carat'])**2\n",
    "tabla_hechos['var_depth'] = (tabla_hechos['depth'].mean() - tabla_hechos['depth'])**2\n",
    "tabla_hechos['var_table'] = (tabla_hechos['table'].mean() - tabla_hechos['table'])**2\n",
    "tabla_hechos['var_x'] = (tabla_hechos['x'].mean() - tabla_hechos['x'])**2\n",
    "tabla_hechos['var_y'] = (tabla_hechos['y'].mean() - tabla_hechos['y'])**2\n",
    "tabla_hechos['var_z'] = (tabla_hechos['z'].mean() - tabla_hechos['z'])**2\n",
    "\n",
    "# Calcular la varianza\n",
    "variance_price = tabla_hechos['var_price'].sum() / (len(tabla_hechos['var_price']) - 1)\n",
    "variance_carat = tabla_hechos['var_carat'].sum() / (len(tabla_hechos['var_carat']) - 1)\n",
    "variance_depth = tabla_hechos['var_depth'].sum() / (len(tabla_hechos['var_depth']) - 1)\n",
    "variance_table = tabla_hechos['var_table'].sum() / (len(tabla_hechos['var_table']) - 1)\n",
    "variance_x = tabla_hechos['var_x'].sum() / (len(tabla_hechos['var_x']) - 1)\n",
    "variance_y = tabla_hechos['var_y'].sum() / (len(tabla_hechos['var_y']) - 1)\n",
    "variance_z = tabla_hechos['var_z'].sum() / (len(tabla_hechos['var_z']) - 1)\n",
    "\n",
    "# Imprimir las varianzas\n",
    "print('Variance Price:', variance_price)\n",
    "print('Variance Carat:', variance_carat)\n",
    "print('Variance Depth:', variance_depth)\n",
    "print('Variance Table:', variance_table)\n",
    "print('Variance X:', variance_x)\n",
    "print('Variance Y:', variance_y)\n",
    "print('Variance Z:', variance_z)\n"
   ]
  },
  {
   "cell_type": "code",
   "execution_count": 54,
   "id": "84c8d39f",
   "metadata": {},
   "outputs": [
    {
     "name": "stdout",
     "output_type": "stream",
     "text": [
      "Standard Deviation Price: 3992.4161466170613\n",
      "Standard Deviation Carat: 0.47554421532468527\n",
      "Standard Deviation Depth: 1.4317253979077107\n",
      "Standard Deviation Table: 2.2335352685810945\n",
      "Standard Deviation X: 1.124452692618594\n",
      "Standard Deviation Y: 1.146649896091256\n",
      "Standard Deviation Z: 0.6970615911262161\n"
     ]
    }
   ],
   "source": [
    "#Cargamos el conjunto de datos tabla_hechos.\n",
    "#Calculamos la desviación estándar de cada variable numérica usando el método std().\n",
    "#Imprimimos las desviaciones estándar de cada variable.\n",
    "\n",
    "La desviación estándar es una medida que indica cuánto se desvían los valores de un conjunto de datos respecto a la media. Es útil para entender la dispersión de los datos. ¡Espero que esto te sea útil! Si necesitas más análisis o visualizaciones, no dudes en decírmelo\n",
    "# Calcular la desviación estándar de cada variable numérica\n",
    "std_dev_price = tabla_hechos['price'].std()\n",
    "std_dev_carat = tabla_hechos['carat'].std()\n",
    "std_dev_depth = tabla_hechos['depth'].std()\n",
    "std_dev_table = tabla_hechos['table'].std()\n",
    "std_dev_x = tabla_hechos['x'].std()\n",
    "std_dev_y = tabla_hechos['y'].std()\n",
    "std_dev_z = tabla_hechos['z'].std()\n",
    "\n",
    "# Imprimir las desviaciones estándar\n",
    "print('Standard Deviation Price:', std_dev_price)\n",
    "print('Standard Deviation Carat:', std_dev_carat)\n",
    "print('Standard Deviation Depth:', std_dev_depth)\n",
    "print('Standard Deviation Table:', std_dev_table)\n",
    "print('Standard Deviation X:', std_dev_x)\n",
    "print('Standard Deviation Y:', std_dev_y)\n",
    "print('Standard Deviation Z:', std_dev_z)\n"
   ]
  },
  {
   "cell_type": "code",
   "execution_count": 55,
   "id": "1bf1d5bf",
   "metadata": {},
   "outputs": [
    {
     "name": "stdout",
     "output_type": "stream",
     "text": [
      "                city  price\n",
      "0           Tel Aviv    326\n",
      "1              Paris    326\n",
      "2             Zurich    327\n",
      "3           Kimberly    334\n",
      "4           Tel Aviv    335\n",
      "...              ...    ...\n",
      "40450       Kimberly  18795\n",
      "40451          Surat  18797\n",
      "40452  New York City  18806\n",
      "40453         Madrid  18818\n",
      "40454       Kimberly  18823\n",
      "\n",
      "[40455 rows x 2 columns]\n"
     ]
    }
   ],
   "source": [
    "# Seleccionar la característica (feature) que deseas ordenar\n",
    "feature = 'price'\n",
    "\n",
    "# Ordenar los datos por la característica seleccionada\n",
    "order_data = tabla_hechos[['city', feature]].sort_values(by=[feature]).reset_index(drop=True)\n",
    "\n",
    "# Mostrar los datos ordenados\n",
    "print(order_data)\n"
   ]
  },
  {
   "cell_type": "code",
   "execution_count": 56,
   "id": "3cae6588",
   "metadata": {},
   "outputs": [
    {
     "name": "stdout",
     "output_type": "stream",
     "text": [
      "Price range: 18497\n",
      "Carat range: 4.3\n",
      "Depth range: 36.0\n",
      "Table range: 52.0\n",
      "X range: 10.23\n",
      "Y range: 58.9\n",
      "Z range: 8.06\n"
     ]
    }
   ],
   "source": [
    "# Calcular el rango de las variables numéricas\n",
    "price_range = tabla_hechos['price'].max() - tabla_hechos['price'].min()\n",
    "carat_range = tabla_hechos['carat'].max() - tabla_hechos['carat'].min()\n",
    "depth_range = tabla_hechos['depth'].max() - tabla_hechos['depth'].min()\n",
    "table_range = tabla_hechos['table'].max() - tabla_hechos['table'].min()\n",
    "x_range = tabla_hechos['x'].max() - tabla_hechos['x'].min()\n",
    "y_range = tabla_hechos['y'].max() - tabla_hechos['y'].min()\n",
    "z_range = tabla_hechos['z'].max() - tabla_hechos['z'].min()\n",
    "\n",
    "# Imprimir los rangos\n",
    "print('Price range:', price_range)\n",
    "print('Carat range:', carat_range)\n",
    "print('Depth range:', depth_range)\n",
    "print('Table range:', table_range)\n",
    "print('X range:', x_range)\n",
    "print('Y range:', y_range)\n",
    "print('Z range:', z_range)\n"
   ]
  },
  {
   "cell_type": "code",
   "execution_count": 57,
   "id": "ce1c1af1",
   "metadata": {},
   "outputs": [
    {
     "name": "stdout",
     "output_type": "stream",
     "text": [
      "Percentile 75th (Price): 5331.0\n",
      "Percentile 25th (Price): 945.0\n",
      "Percentile 50th (Price): 2397.0\n"
     ]
    }
   ],
   "source": [
    "# Calcular los percentiles de la variable 'price'\n",
    "per_75_price = tabla_hechos['price'].quantile(0.75)\n",
    "per_25_price = tabla_hechos['price'].quantile(0.25)\n",
    "per_50_price = tabla_hechos['price'].quantile(0.50)  # == Mediana\n",
    "\n",
    "# Imprimir los percentiles\n",
    "print('Percentile 75th (Price):', per_75_price)\n",
    "print('Percentile 25th (Price):', per_25_price)\n",
    "print('Percentile 50th (Price):', per_50_price)\n"
   ]
  },
  {
   "cell_type": "code",
   "execution_count": 58,
   "id": "874da2e5",
   "metadata": {},
   "outputs": [
    {
     "name": "stdout",
     "output_type": "stream",
     "text": [
      "carat Percentiles:\n",
      "  75th: 1.04\n",
      "  25th: 0.4\n",
      "  50th (Median): 0.7\n",
      "\n",
      "price Percentiles:\n",
      "  75th: 5331.0\n",
      "  25th: 945.0\n",
      "  50th (Median): 2397.0\n",
      "\n",
      "depth Percentiles:\n",
      "  75th: 62.5\n",
      "  25th: 61.0\n",
      "  50th (Median): 61.8\n",
      "\n",
      "table Percentiles:\n",
      "  75th: 59.0\n",
      "  25th: 56.0\n",
      "  50th (Median): 57.0\n",
      "\n",
      "x Percentiles:\n",
      "  75th: 6.54\n",
      "  25th: 4.71\n",
      "  50th (Median): 5.69\n",
      "\n",
      "y Percentiles:\n",
      "  75th: 6.54\n",
      "  25th: 4.72\n",
      "  50th (Median): 5.71\n",
      "\n",
      "z Percentiles:\n",
      "  75th: 4.035\n",
      "  25th: 2.91\n",
      "  50th (Median): 3.52\n",
      "\n"
     ]
    }
   ],
   "source": [
    "# Seleccionar las columnas numéricas continuas\n",
    "variables_numericas_continuas = tabla_hechos[[\"carat\", \"price\", \"depth\", \"table\", \"x\", \"y\", \"z\"]]\n",
    "\n",
    "# Calcular los percentiles\n",
    "percentiles = {}\n",
    "for column in variables_numericas_continuas.columns:\n",
    "    percentiles[column] = {\n",
    "        '75th': variables_numericas_continuas[column].quantile(0.75),\n",
    "        '25th': variables_numericas_continuas[column].quantile(0.25),\n",
    "        '50th (Median)': variables_numericas_continuas[column].quantile(0.50)\n",
    "    }\n",
    "\n",
    "# Imprimir los percentiles\n",
    "for column, values in percentiles.items():\n",
    "    print(f'{column} Percentiles:')\n",
    "    print(f\"  75th: {values['75th']}\")\n",
    "    print(f\"  25th: {values['25th']}\")\n",
    "    print(f\"  50th (Median): {values['50th (Median)']}\\n\")\n"
   ]
  },
  {
   "cell_type": "code",
   "execution_count": 60,
   "id": "5435714f",
   "metadata": {
    "scrolled": true
   },
   "outputs": [
    {
     "name": "stdout",
     "output_type": "stream",
     "text": [
      "Tabla de Frecuencias:\n",
      " price\n",
      "(307.503, 2175.7]     19045\n",
      "(2175.7, 4025.4]       6979\n",
      "(4025.4, 5875.1]       5526\n",
      "(5875.1, 7724.8]       2896\n",
      "(7724.8, 9574.5]       1772\n",
      "(9574.5, 11424.2]      1323\n",
      "(11424.2, 13273.9]      960\n",
      "(13273.9, 15123.6]      762\n",
      "(15123.6, 16973.3]      642\n",
      "(16973.3, 18823.0]      550\n",
      "Name: count, dtype: int64\n"
     ]
    }
   ],
   "source": [
    "# Tabla de Frecuencias\n",
    "tabla_frecuencias = pd.cut(tabla_hechos['price'], bins=10).value_counts().sort_index()\n",
    "print('Tabla de Frecuencias:\\n', tabla_frecuencias)\n",
    "\n"
   ]
  },
  {
   "cell_type": "code",
   "execution_count": 76,
   "id": "d7f8155f",
   "metadata": {},
   "outputs": [
    {
     "data": {
      "image/png": "[encoded data removed]",
      "text/plain": [
       "<Figure size 1000x600 with 1 Axes>"
      ]
     },
     "metadata": {},
     "output_type": "display_data"
    }
   ],
   "source": [
    "#boxplot price \n",
    "\n",
    "plt.figure(figsize=(10, 6))\n",
    "sns.boxplot(x=tabla_hechos['price'])\n",
    "plt.title('Boxplot de Price')\n",
    "plt.xlabel('Price')\n",
    "plt.show()\n"
   ]
  },
  {
   "cell_type": "code",
   "execution_count": null,
   "id": "ef445b69",
   "metadata": {},
   "outputs": [],
   "source": [
    "#se puede apreciar que la mediana esta en 2500 los que nos da a entender que los diferentes valores estan \n",
    "#puesto de una manera que muy erratica \n",
    "#vemos que a partir de donde son los outlayers y donde estan distribuidos los valores \n"
   ]
  },
  {
   "cell_type": "code",
   "execution_count": 62,
   "id": "76def571",
   "metadata": {},
   "outputs": [
    {
     "name": "stderr",
     "output_type": "stream",
     "text": [
      "C:\\Users\\Jose Luis\\AppData\\Local\\Temp\\ipykernel_12136\\2190150189.py:3: FutureWarning: \n",
      "\n",
      "`shade` is now deprecated in favor of `fill`; setting `fill=True`.\n",
      "This will become an error in seaborn v0.14.0; please update your code.\n",
      "\n",
      "  sns.kdeplot(tabla_hechos['price'], shade=True)\n"
     ]
    },
    {
     "data": {
      "image/png": "[encoded data removed]",
      "text/plain": [
       "<Figure size 1000x600 with 1 Axes>"
      ]
     },
     "metadata": {},
     "output_type": "display_data"
    }
   ],
   "source": [
    "# Gráfico de Densidad\n",
    "plt.figure(figsize=(10, 6))\n",
    "sns.kdeplot(tabla_hechos['price'], shade=True)\n",
    "plt.title('Gráfico de Densidad de Price')\n",
    "plt.xlabel('Price')\n",
    "plt.ylabel('Densidad')\n",
    "plt.show()"
   ]
  },
  {
   "cell_type": "code",
   "execution_count": null,
   "id": "80069964",
   "metadata": {},
   "outputs": [],
   "source": [
    "# en este grafico podemos observar la densidad de los valores dandonos una idea de donde estan contenidos "
   ]
  },
  {
   "cell_type": "code",
   "execution_count": 63,
   "id": "e841f5b9",
   "metadata": {},
   "outputs": [
    {
     "data": {
      "image/png": "[encoded data removed]",
      "text/plain": [
       "<Figure size 1000x600 with 1 Axes>"
      ]
     },
     "metadata": {},
     "output_type": "display_data"
    }
   ],
   "source": [
    "# Histograma\n",
    "plt.figure(figsize=(10, 6))\n",
    "sns.histplot(tabla_hechos['price'], bins=10, kde=False)\n",
    "plt.title('Histograma de Price')\n",
    "plt.xlabel('Price')\n",
    "plt.ylabel('Frecuencia')\n",
    "plt.show()"
   ]
  },
  {
   "cell_type": "code",
   "execution_count": null,
   "id": "2c88b1b7",
   "metadata": {},
   "outputs": [],
   "source": [
    "#Nos deja apreciar los mismo que en la densidad solo que dando una mejor idea de la frecuencia mas exacta "
   ]
  },
  {
   "cell_type": "code",
   "execution_count": 80,
   "id": "7edfa2d1",
   "metadata": {},
   "outputs": [
    {
     "data": {
      "image/png": "[encoded data removed]",
      "text/plain": [
       "<Figure size 1000x600 with 1 Axes>"
      ]
     },
     "metadata": {},
     "output_type": "display_data"
    }
   ],
   "source": [
    "#boxplot carat(peso) \n",
    "plt.figure(figsize=(10, 6))\n",
    "sns.boxplot(x=tabla_hechos['carat'])\n",
    "plt.title('Boxplot de carat')\n",
    "plt.xlabel(' peso ')\n",
    "plt.show()\n"
   ]
  },
  {
   "cell_type": "code",
   "execution_count": null,
   "id": "dbed7876",
   "metadata": {},
   "outputs": [],
   "source": [
    "#el grafico nos deja observar que la mediana no llega a un g de peso y que la gran mayoria de datos estan concentrado de 0.3g\n",
    "#a 1.1 g \n",
    "#tambien podemos observar  que tenemos muchos outlayers que empiezan de 0 a 0.2 y de 2 a 6"
   ]
  },
  {
   "cell_type": "code",
   "execution_count": 82,
   "id": "164668a8",
   "metadata": {},
   "outputs": [
    {
     "data": {
      "image/png": "[encoded data removed]",
      "text/plain": [
       "<Figure size 1000x600 with 1 Axes>"
      ]
     },
     "metadata": {},
     "output_type": "display_data"
    }
   ],
   "source": [
    "# Histograma\n",
    "plt.figure(figsize=(10, 6))\n",
    "sns.histplot(tabla_hechos['carat'], bins=10, kde=False)\n",
    "plt.title('Histograma de carat')\n",
    "plt.xlabel('peso')\n",
    "plt.ylabel('Frecuencia')\n",
    "plt.show()"
   ]
  },
  {
   "cell_type": "code",
   "execution_count": null,
   "id": "392ff095",
   "metadata": {},
   "outputs": [],
   "source": []
  },
  {
   "cell_type": "code",
   "execution_count": 83,
   "id": "d288db3a",
   "metadata": {},
   "outputs": [
    {
     "name": "stderr",
     "output_type": "stream",
     "text": [
      "C:\\Users\\Jose Luis\\AppData\\Local\\Temp\\ipykernel_12136\\421300379.py:3: FutureWarning: \n",
      "\n",
      "`shade` is now deprecated in favor of `fill`; setting `fill=True`.\n",
      "This will become an error in seaborn v0.14.0; please update your code.\n",
      "\n",
      "  sns.kdeplot(tabla_hechos['carat'], shade=True)\n"
     ]
    },
    {
     "data": {
      "image/png": "[encoded data removed]",
      "text/plain": [
       "<Figure size 1000x600 with 1 Axes>"
      ]
     },
     "metadata": {},
     "output_type": "display_data"
    }
   ],
   "source": [
    "# Gráfico de Densidad\n",
    "plt.figure(figsize=(10, 6))\n",
    "sns.kdeplot(tabla_hechos['carat'], shade=True)\n",
    "plt.title('Gráfico de Densidad de carat')\n",
    "plt.xlabel('Peso')\n",
    "plt.ylabel('Densidad')\n",
    "plt.show()"
   ]
  }
 ],
 "metadata": {
  "kernelspec": {
   "display_name": "Python (m2_env - jose)",
   "language": "python",
   "name": "m2_env"
  },
  "language_info": {
   "codemirror_mode": {
    "name": "ipython",
    "version": 3
   },
   "file_extension": ".py",
   "mimetype": "text/x-python",
   "name": "python",
   "nbconvert_exporter": "python",
   "pygments_lexer": "ipython3",
   "version": "3.10.15"
  }
 },
 "nbformat": 4,
 "nbformat_minor": 5
}
